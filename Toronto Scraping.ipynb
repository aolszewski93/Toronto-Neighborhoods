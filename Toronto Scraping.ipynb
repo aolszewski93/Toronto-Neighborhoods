{
 "cells": [
  {
   "cell_type": "markdown",
   "metadata": {},
   "source": [
    "# Scraping Wikipedia For Neighborhood Info #\n",
    "### Albert Olszewski ###\n",
    "In this document, I will be gathering information on toronto neighborhoods off of website data and performing clustering analysis using a foursquare plug in."
   ]
  },
  {
   "cell_type": "markdown",
   "metadata": {},
   "source": [
    "Import necessary packages."
   ]
  },
  {
   "cell_type": "code",
   "execution_count": 596,
   "metadata": {},
   "outputs": [],
   "source": [
    "import pandas as pd\n",
    "import numpy as np\n",
    "from bs4 import BeautifulSoup\n",
    "import requests\n",
    "import csv"
   ]
  },
  {
   "cell_type": "markdown",
   "metadata": {},
   "source": [
    "Create a beautifulsoup object from the xml source code from a wikipedia link given."
   ]
  },
  {
   "cell_type": "code",
   "execution_count": 597,
   "metadata": {},
   "outputs": [],
   "source": [
    "source = requests.get('https://en.wikipedia.org/wiki/List_of_postal_codes_of_Canada:_M').text\n",
    "soup = BeautifulSoup(source, 'lxml')"
   ]
  },
  {
   "cell_type": "markdown",
   "metadata": {},
   "source": [
    "The following block of code I cleaned data as follows:\n",
    "1. Gather each individual row in table throwing an exception for empty rows or cells (this helped handle the heading becuase they were enclosed in different code)\n",
    "2. Remove rows that do not have an assigned borough\n",
    "3. Assign the borough as neighborhood name for postal codes with unassigned neighborhoods\n",
    "4. Create a dataframe and compile neighborhoods together that share a postal code (groupby and join)"
   ]
  },
  {
   "cell_type": "code",
   "execution_count": 598,
   "metadata": {},
   "outputs": [],
   "source": [
    "postcodes = []\n",
    "boroughs = []\n",
    "neighborhoods = []\n",
    "districts = []\n",
    "\n",
    "for district in soup.find('table').find_all('tr'):\n",
    "    try:\n",
    "        postcode = district.find_all('td')[0].text\n",
    "        borough = district.find_all('td')[1].text\n",
    "        neighborhood = district.find_all('td')[2].text\n",
    "        neighborhood = neighborhood.replace(\"\\n\",\"\")\n",
    "    except Exception as e:\n",
    "        postcode = None\n",
    "        borough = None\n",
    "        neighborhood = None\n",
    "    # compile data into a list\n",
    "    districts.append([postcode,borough,neighborhood])\n",
    "\n",
    "\n",
    "# get rid of postal codes not assigned to a borough\n",
    "assigned_districts = []\n",
    "for i in range(1,len(districts)):\n",
    "    if districts[i][1]!='Not assigned':\n",
    "        assigned_districts.append(districts[i])\n",
    "\n",
    "# assign borough as neighborhoods for unassigned neighborhoods\n",
    "for j in range(0,len(assigned_districts)):\n",
    "    if assigned_districts[j][2] == 'Not assigned':\n",
    "        assigned_districts[j][2] = assigned_districts[j][1]\n",
    "        \n",
    "\n"
   ]
  },
  {
   "cell_type": "code",
   "execution_count": 599,
   "metadata": {},
   "outputs": [
    {
     "data": {
      "text/html": [
       "<div>\n",
       "<style scoped>\n",
       "    .dataframe tbody tr th:only-of-type {\n",
       "        vertical-align: middle;\n",
       "    }\n",
       "\n",
       "    .dataframe tbody tr th {\n",
       "        vertical-align: top;\n",
       "    }\n",
       "\n",
       "    .dataframe thead th {\n",
       "        text-align: right;\n",
       "    }\n",
       "</style>\n",
       "<table border=\"1\" class=\"dataframe\">\n",
       "  <thead>\n",
       "    <tr style=\"text-align: right;\">\n",
       "      <th></th>\n",
       "      <th>Postal Code</th>\n",
       "      <th>Borough</th>\n",
       "      <th>Neighborhood</th>\n",
       "    </tr>\n",
       "  </thead>\n",
       "  <tbody>\n",
       "    <tr>\n",
       "      <th>0</th>\n",
       "      <td>M1B</td>\n",
       "      <td>Scarborough</td>\n",
       "      <td>Rouge,Malvern</td>\n",
       "    </tr>\n",
       "    <tr>\n",
       "      <th>1</th>\n",
       "      <td>M1C</td>\n",
       "      <td>Scarborough</td>\n",
       "      <td>Highland Creek,Rouge Hill,Port Union</td>\n",
       "    </tr>\n",
       "    <tr>\n",
       "      <th>2</th>\n",
       "      <td>M1E</td>\n",
       "      <td>Scarborough</td>\n",
       "      <td>Guildwood,Morningside,West Hill</td>\n",
       "    </tr>\n",
       "    <tr>\n",
       "      <th>3</th>\n",
       "      <td>M1G</td>\n",
       "      <td>Scarborough</td>\n",
       "      <td>Woburn</td>\n",
       "    </tr>\n",
       "    <tr>\n",
       "      <th>4</th>\n",
       "      <td>M1H</td>\n",
       "      <td>Scarborough</td>\n",
       "      <td>Cedarbrae</td>\n",
       "    </tr>\n",
       "  </tbody>\n",
       "</table>\n",
       "</div>"
      ],
      "text/plain": [
       "  Postal Code      Borough                          Neighborhood\n",
       "0         M1B  Scarborough                         Rouge,Malvern\n",
       "1         M1C  Scarborough  Highland Creek,Rouge Hill,Port Union\n",
       "2         M1E  Scarborough       Guildwood,Morningside,West Hill\n",
       "3         M1G  Scarborough                                Woburn\n",
       "4         M1H  Scarborough                             Cedarbrae"
      ]
     },
     "execution_count": 599,
     "metadata": {},
     "output_type": "execute_result"
    }
   ],
   "source": [
    "# creating dataframe\n",
    "df = pd.DataFrame(data = assigned_districts, columns = ['Postal Code','Borough','Neighborhood'])\n",
    "# joining neighborhoods with same postalcode\n",
    "df = df.groupby(['Postal Code','Borough'])['Neighborhood'].apply(lambda x: ','.join(x.astype(str))).reset_index()\n",
    "\n",
    "df.head()\n"
   ]
  },
  {
   "cell_type": "code",
   "execution_count": 600,
   "metadata": {},
   "outputs": [
    {
     "name": "stdout",
     "output_type": "stream",
     "text": [
      "The final dataframe has the shape of:  (103, 3)\n"
     ]
    }
   ],
   "source": [
    "print('The final dataframe has the shape of: ', df.shape)"
   ]
  }
 ],
 "metadata": {
  "kernelspec": {
   "display_name": "Python 3",
   "language": "python",
   "name": "python3"
  },
  "language_info": {
   "codemirror_mode": {
    "name": "ipython",
    "version": 3
   },
   "file_extension": ".py",
   "mimetype": "text/x-python",
   "name": "python",
   "nbconvert_exporter": "python",
   "pygments_lexer": "ipython3",
   "version": "3.7.3"
  }
 },
 "nbformat": 4,
 "nbformat_minor": 2
}
